{
 "cells": [
  {
   "cell_type": "markdown",
   "id": "0fcfee91-285f-49ce-aba6-dc89f7bf3465",
   "metadata": {},
   "source": [
    "# Conditional Operators (<, >, ==, <=, >=)"
   ]
  },
  {
   "cell_type": "code",
   "execution_count": 5,
   "id": "1ae69813-a61f-404f-a8d7-a7f85a60c962",
   "metadata": {},
   "outputs": [
    {
     "name": "stdout",
     "output_type": "stream",
     "text": [
      "[ True False False  True False]\n",
      "[ True  True  True  True  True] [False False False False False]\n"
     ]
    }
   ],
   "source": [
    "import numpy as np\n",
    "\n",
    "a = np.array([6,2,5,4,6])\n",
    "b = np.array([6,4,9,4,7])\n",
    "\n",
    "print(a==b) #Is equal operator\n",
    "print(a<=6, b<4) # Eqivilant to a<=[6, 6, 6, 6, 6], b<[4, 4, 4, 4, 4]. This happens because of broadcasting rules."
   ]
  }
 ],
 "metadata": {
  "kernelspec": {
   "display_name": "Python [conda env:base] *",
   "language": "python",
   "name": "conda-base-py"
  },
  "language_info": {
   "codemirror_mode": {
    "name": "ipython",
    "version": 3
   },
   "file_extension": ".py",
   "mimetype": "text/x-python",
   "name": "python",
   "nbconvert_exporter": "python",
   "pygments_lexer": "ipython3",
   "version": "3.13.5"
  }
 },
 "nbformat": 4,
 "nbformat_minor": 5
}
