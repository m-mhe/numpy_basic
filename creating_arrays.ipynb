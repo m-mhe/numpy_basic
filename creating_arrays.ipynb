{
 "cells": [
  {
   "cell_type": "markdown",
   "id": "1cefcdfe-9a8a-4509-99b7-5ee5a8cb4252",
   "metadata": {},
   "source": [
    "# Introduction:\n",
    "NumPy (Numerical Python) is a powerful open-source Python library used for numerical computing, providing support for large, multi-dimensional arrays and matrices along with a wide range of high-performance mathematical functions to operate on them. It is the foundation of many scientific and data analysis libraries in Python, enabling fast operations such as linear algebra, Fourier transforms, and statistical calculations. Unlike regular Python lists, NumPy arrays are more memory-efficient and allow vectorized operations, meaning calculations can be applied to entire arrays without explicit loops, making programs faster and cleaner."
   ]
  },
  {
   "cell_type": "markdown",
   "id": "9e6e96cb-690f-4640-935a-c9e1894bc4f3",
   "metadata": {},
   "source": [
    "### Creating N-dimensional array using zeros() function"
   ]
  },
  {
   "cell_type": "code",
   "execution_count": 93,
   "id": "4ef0494e-1aa1-4685-b2b3-fc8f74d3d9f4",
   "metadata": {},
   "outputs": [],
   "source": [
    "import numpy as np\n",
    "\n",
    "m = 4\n",
    "n = 6\n",
    "o = 7"
   ]
  },
  {
   "cell_type": "code",
   "execution_count": 94,
   "id": "34c7c47e-5bf8-4e13-b2c5-c1ce213fbc27",
   "metadata": {},
   "outputs": [
    {
     "data": {
      "text/plain": [
       "array([0., 0., 0., 0.])"
      ]
     },
     "execution_count": 94,
     "metadata": {},
     "output_type": "execute_result"
    }
   ],
   "source": [
    "a=np.zeros(m) # 1 dimensional array (1D)\n",
    "a"
   ]
  },
  {
   "cell_type": "code",
   "execution_count": 95,
   "id": "59b7cdb8-293e-43eb-84ca-0acc9948ce27",
   "metadata": {},
   "outputs": [
    {
     "name": "stdout",
     "output_type": "stream",
     "text": [
      "2D array:\n",
      "[[0. 0. 0. 0. 0. 0.]\n",
      " [0. 0. 0. 0. 0. 0.]\n",
      " [0. 0. 0. 0. 0. 0.]\n",
      " [0. 0. 0. 0. 0. 0.]]\n",
      "\n",
      "3D array:\n",
      "[[[0. 0. 0. 0. 0. 0. 0.]\n",
      "  [0. 0. 0. 0. 0. 0. 0.]\n",
      "  [0. 0. 0. 0. 0. 0. 0.]\n",
      "  [0. 0. 0. 0. 0. 0. 0.]\n",
      "  [0. 0. 0. 0. 0. 0. 0.]\n",
      "  [0. 0. 0. 0. 0. 0. 0.]]\n",
      "\n",
      " [[0. 0. 0. 0. 0. 0. 0.]\n",
      "  [0. 0. 0. 0. 0. 0. 0.]\n",
      "  [0. 0. 0. 0. 0. 0. 0.]\n",
      "  [0. 0. 0. 0. 0. 0. 0.]\n",
      "  [0. 0. 0. 0. 0. 0. 0.]\n",
      "  [0. 0. 0. 0. 0. 0. 0.]]\n",
      "\n",
      " [[0. 0. 0. 0. 0. 0. 0.]\n",
      "  [0. 0. 0. 0. 0. 0. 0.]\n",
      "  [0. 0. 0. 0. 0. 0. 0.]\n",
      "  [0. 0. 0. 0. 0. 0. 0.]\n",
      "  [0. 0. 0. 0. 0. 0. 0.]\n",
      "  [0. 0. 0. 0. 0. 0. 0.]]\n",
      "\n",
      " [[0. 0. 0. 0. 0. 0. 0.]\n",
      "  [0. 0. 0. 0. 0. 0. 0.]\n",
      "  [0. 0. 0. 0. 0. 0. 0.]\n",
      "  [0. 0. 0. 0. 0. 0. 0.]\n",
      "  [0. 0. 0. 0. 0. 0. 0.]\n",
      "  [0. 0. 0. 0. 0. 0. 0.]]]\n"
     ]
    }
   ],
   "source": [
    "b = np.zeros((m, n)) # 2 dimensional array (2D)\n",
    "# So, we can create N-dimensional array of arbitrary rank\n",
    "c = np.zeros((m, n, o)) # 3 dimensional array (3D)\n",
    "print(f\"2D array:\\n{b}\\n\\n3D array:\\n{c}\")"
   ]
  },
  {
   "cell_type": "markdown",
   "id": "326e6bed-bfdd-449c-9b83-0f26cbcf64a3",
   "metadata": {},
   "source": [
    "### Array info."
   ]
  },
  {
   "cell_type": "code",
   "execution_count": 96,
   "id": "7cd0362d-7beb-4ac2-8a0c-d27212686d02",
   "metadata": {},
   "outputs": [
    {
     "name": "stdout",
     "output_type": "stream",
     "text": [
      "Row X Column of a: (4,)\n",
      "Rank of a: 1\n",
      "Size of a: 4\n",
      "\n",
      "Row X Column of b: (4, 6)\n",
      "Rank of b: 2\n",
      "Size of b: 24\n",
      "\n",
      "Matrix X Row X Column of c: (4, 6, 7)\n",
      "Rank of c: 3\n",
      "Size of c: 168\n",
      "\n",
      "<class 'numpy.ndarray'>\n"
     ]
    }
   ],
   "source": [
    "print(f\"Row X Column of a: {a.shape}\")\n",
    "print(f\"Rank of a: {a.ndim}\")\n",
    "print(f\"Size of a: {a.size}\\n\")\n",
    "\n",
    "print(f\"Row X Column of b: {b.shape}\")\n",
    "print(f\"Rank of b: {b.ndim}\")\n",
    "print(f\"Size of b: {b.size}\\n\")\n",
    "\n",
    "print(f\"Matrix X Row X Column of c: {c.shape}\")\n",
    "print(f\"Rank of c: {c.ndim}\")\n",
    "print(f\"Size of c: {c.size}\\n\")\n",
    "print(type(c)) #NumPy arrays have the type ndarray"
   ]
  },
  {
   "cell_type": "markdown",
   "id": "22637a6e-4e6a-44f3-854f-9603dc80e4e9",
   "metadata": {},
   "source": [
    "### Creating N-dimensional array using ones() function"
   ]
  },
  {
   "cell_type": "code",
   "execution_count": 97,
   "id": "e1e63af3-c5d0-4906-9ba0-530105e734a5",
   "metadata": {},
   "outputs": [
    {
     "data": {
      "text/plain": [
       "array([[1., 1., 1., 1.],\n",
       "       [1., 1., 1., 1.],\n",
       "       [1., 1., 1., 1.]])"
      ]
     },
     "execution_count": 97,
     "metadata": {},
     "output_type": "execute_result"
    }
   ],
   "source": [
    "np.ones((3,4))"
   ]
  },
  {
   "cell_type": "markdown",
   "id": "306b0624-2f33-4e3f-9558-45dde8f50a0c",
   "metadata": {},
   "source": [
    "### Creating N-dimensional array with any fix digit"
   ]
  },
  {
   "cell_type": "code",
   "execution_count": 98,
   "id": "9f4ac484-2d29-4352-81da-6fce7e6818e1",
   "metadata": {},
   "outputs": [
    {
     "data": {
      "text/plain": [
       "array([[[5, 5, 5, 5, 5],\n",
       "        [5, 5, 5, 5, 5],\n",
       "        [5, 5, 5, 5, 5],\n",
       "        [5, 5, 5, 5, 5],\n",
       "        [5, 5, 5, 5, 5]],\n",
       "\n",
       "       [[5, 5, 5, 5, 5],\n",
       "        [5, 5, 5, 5, 5],\n",
       "        [5, 5, 5, 5, 5],\n",
       "        [5, 5, 5, 5, 5],\n",
       "        [5, 5, 5, 5, 5]],\n",
       "\n",
       "       [[5, 5, 5, 5, 5],\n",
       "        [5, 5, 5, 5, 5],\n",
       "        [5, 5, 5, 5, 5],\n",
       "        [5, 5, 5, 5, 5],\n",
       "        [5, 5, 5, 5, 5]]])"
      ]
     },
     "execution_count": 98,
     "metadata": {},
     "output_type": "execute_result"
    }
   ],
   "source": [
    "np.full((3,5,5), 5)"
   ]
  },
  {
   "cell_type": "code",
   "execution_count": 99,
   "id": "601e4ed5-db20-4902-bbcd-8d67c629b0b1",
   "metadata": {},
   "outputs": [
    {
     "data": {
      "text/plain": [
       "array([[[3.14159265, 3.14159265, 3.14159265, 3.14159265, 3.14159265],\n",
       "        [3.14159265, 3.14159265, 3.14159265, 3.14159265, 3.14159265],\n",
       "        [3.14159265, 3.14159265, 3.14159265, 3.14159265, 3.14159265],\n",
       "        [3.14159265, 3.14159265, 3.14159265, 3.14159265, 3.14159265],\n",
       "        [3.14159265, 3.14159265, 3.14159265, 3.14159265, 3.14159265]],\n",
       "\n",
       "       [[3.14159265, 3.14159265, 3.14159265, 3.14159265, 3.14159265],\n",
       "        [3.14159265, 3.14159265, 3.14159265, 3.14159265, 3.14159265],\n",
       "        [3.14159265, 3.14159265, 3.14159265, 3.14159265, 3.14159265],\n",
       "        [3.14159265, 3.14159265, 3.14159265, 3.14159265, 3.14159265],\n",
       "        [3.14159265, 3.14159265, 3.14159265, 3.14159265, 3.14159265]],\n",
       "\n",
       "       [[3.14159265, 3.14159265, 3.14159265, 3.14159265, 3.14159265],\n",
       "        [3.14159265, 3.14159265, 3.14159265, 3.14159265, 3.14159265],\n",
       "        [3.14159265, 3.14159265, 3.14159265, 3.14159265, 3.14159265],\n",
       "        [3.14159265, 3.14159265, 3.14159265, 3.14159265, 3.14159265],\n",
       "        [3.14159265, 3.14159265, 3.14159265, 3.14159265, 3.14159265]],\n",
       "\n",
       "       [[3.14159265, 3.14159265, 3.14159265, 3.14159265, 3.14159265],\n",
       "        [3.14159265, 3.14159265, 3.14159265, 3.14159265, 3.14159265],\n",
       "        [3.14159265, 3.14159265, 3.14159265, 3.14159265, 3.14159265],\n",
       "        [3.14159265, 3.14159265, 3.14159265, 3.14159265, 3.14159265],\n",
       "        [3.14159265, 3.14159265, 3.14159265, 3.14159265, 3.14159265]],\n",
       "\n",
       "       [[3.14159265, 3.14159265, 3.14159265, 3.14159265, 3.14159265],\n",
       "        [3.14159265, 3.14159265, 3.14159265, 3.14159265, 3.14159265],\n",
       "        [3.14159265, 3.14159265, 3.14159265, 3.14159265, 3.14159265],\n",
       "        [3.14159265, 3.14159265, 3.14159265, 3.14159265, 3.14159265],\n",
       "        [3.14159265, 3.14159265, 3.14159265, 3.14159265, 3.14159265]]])"
      ]
     },
     "execution_count": 99,
     "metadata": {},
     "output_type": "execute_result"
    }
   ],
   "source": [
    "np.full((5,5,5), np.pi)"
   ]
  },
  {
   "cell_type": "markdown",
   "id": "73985510-a489-4b96-a7ba-b6d066bfce02",
   "metadata": {},
   "source": [
    "### Creating an uninitialized N-dimensional array"
   ]
  },
  {
   "cell_type": "code",
   "execution_count": 100,
   "id": "0183146c-3a4f-412d-a2d5-0a452aa6c294",
   "metadata": {},
   "outputs": [
    {
     "data": {
      "text/plain": [
       "array([[[0.00000000e+000, 0.00000000e+000, 0.00000000e+000,\n",
       "         6.95173704e-310, 3.40905296e-322],\n",
       "        [8.42058786e-312, 8.42058786e-312, 8.42058785e-312,\n",
       "         8.42072202e-312, 8.42058786e-312],\n",
       "        [8.42058786e-312, 8.42058786e-312, 8.42058786e-312,\n",
       "         8.42058786e-312, 8.42072202e-312],\n",
       "        [8.42058786e-312, 8.42058785e-312, 8.42058786e-312,\n",
       "         8.42058786e-312, 8.42058786e-312],\n",
       "        [8.42058786e-312, 8.42072202e-312, 8.42058786e-312,\n",
       "         8.42058786e-312, 8.42058786e-312]],\n",
       "\n",
       "       [[8.42058786e-312, 8.42058786e-312, 8.42058786e-312,\n",
       "         8.42058786e-312, 8.42072202e-312],\n",
       "        [8.42058787e-312, 8.42058786e-312, 8.42058786e-312,\n",
       "         8.42072202e-312, 8.42058785e-312],\n",
       "        [8.42058784e-312, 8.42058786e-312, 8.42058787e-312,\n",
       "         8.42058787e-312, 8.42058787e-312],\n",
       "        [8.42058787e-312, 8.42058786e-312, 8.42058787e-312,\n",
       "         8.42058787e-312, 8.42058787e-312],\n",
       "        [8.42058787e-312, 8.42058786e-312, 8.42058787e-312,\n",
       "         8.42058787e-312, 8.42058787e-312]],\n",
       "\n",
       "       [[8.42058787e-312, 8.42058787e-312, 8.42072202e-312,\n",
       "         8.42072202e-312, 8.42058787e-312],\n",
       "        [8.42058787e-312, 8.42058787e-312, 8.42058787e-312,\n",
       "         8.42058787e-312, 8.42058787e-312],\n",
       "        [8.42058786e-312, 8.42058787e-312, 8.42058787e-312,\n",
       "         8.42058787e-312, 8.42072201e-312],\n",
       "        [8.42058787e-312, 8.42058787e-312, 8.42058787e-312,\n",
       "         8.42058787e-312, 8.42058787e-312],\n",
       "        [8.42058787e-312, 8.42072202e-312, 8.42058787e-312,\n",
       "         8.42058787e-312, 8.42047190e-312]]])"
      ]
     },
     "execution_count": 100,
     "metadata": {},
     "output_type": "execute_result"
    }
   ],
   "source": [
    "np.empty((3,5,5)) # It's elements are not predictable as it is whatever is in memory at that point"
   ]
  },
  {
   "cell_type": "markdown",
   "id": "dab45295-54b8-4645-9299-79e35f0cd4c5",
   "metadata": {},
   "source": [
    "### Creating a ndarray with regular python array"
   ]
  },
  {
   "cell_type": "code",
   "execution_count": 101,
   "id": "a4e59d3d-b233-4a03-9dd2-55c83b26ff9c",
   "metadata": {},
   "outputs": [
    {
     "name": "stdout",
     "output_type": "stream",
     "text": [
      "[[6 4]\n",
      " [2 9]\n",
      " [8 1]]\n",
      "(3, 2)\n",
      "6\n",
      "Rank: 2\n"
     ]
    }
   ],
   "source": [
    "x = np.array([[6,4],[2,9],[8,1]])\n",
    "print(x)\n",
    "print(x.shape)\n",
    "print(x.size)\n",
    "print(f\"Rank: {x.ndim}\")"
   ]
  },
  {
   "cell_type": "markdown",
   "id": "2baa705c-9bcd-465e-9f8b-e1d809607e8f",
   "metadata": {},
   "source": [
    "### Array containing element from a minimam fix digit to maximum fix digit"
   ]
  },
  {
   "cell_type": "code",
   "execution_count": 102,
   "id": "7306e723-0296-4a78-8a66-44acd0563e80",
   "metadata": {},
   "outputs": [
    {
     "data": {
      "text/plain": [
       "array([5, 6, 7, 8])"
      ]
     },
     "execution_count": 102,
     "metadata": {},
     "output_type": "execute_result"
    }
   ],
   "source": [
    "np.arange(5,9) # np.arange(minimum, maximum(not included))"
   ]
  },
  {
   "cell_type": "code",
   "execution_count": 103,
   "id": "a0f5c4ca-0234-4670-8bf8-84e6ce68cffc",
   "metadata": {},
   "outputs": [
    {
     "data": {
      "text/plain": [
       "array([ 4, 12, 20, 28, 36, 44, 52, 60, 68, 76])"
      ]
     },
     "execution_count": 103,
     "metadata": {},
     "output_type": "execute_result"
    }
   ],
   "source": [
    "np.arange(4, 78, 8) # np.arange(minimum, maximum(not included), step)"
   ]
  },
  {
   "cell_type": "code",
   "execution_count": 104,
   "id": "830a0e10-8df9-4406-8d75-da54dd0b597c",
   "metadata": {},
   "outputs": [
    {
     "data": {
      "text/plain": [
       "array([ 4. ,  7.4, 10.8, 14.2, 17.6, 21. , 24.4, 27.8, 31.2, 34.6, 38. ,\n",
       "       41.4, 44.8, 48.2, 51.6, 55. , 58.4, 61.8, 65.2, 68.6, 72. , 75.4])"
      ]
     },
     "execution_count": 104,
     "metadata": {},
     "output_type": "execute_result"
    }
   ],
   "source": [
    "np.arange(4, 78, 3.4) # np.arange(minimum, maximum(not included), step)"
   ]
  },
  {
   "cell_type": "code",
   "execution_count": 105,
   "id": "f0ca3d2f-c7e8-4064-83af-aa54e1c7eebc",
   "metadata": {},
   "outputs": [
    {
     "data": {
      "text/plain": [
       "array([[ 4. ,  7.5, 11. , 14.5, 18. , 21.5, 25. , 28.5, 32. , 35.5, 39. ,\n",
       "        42.5, 46. , 49.5, 53. , 56.5, 60. , 63.5, 67. , 70.5, 74. , 77.5],\n",
       "       [ 4. ,  7.4, 10.8, 14.2, 17.6, 21. , 24.4, 27.8, 31.2, 34.6, 38. ,\n",
       "        41.4, 44.8, 48.2, 51.6, 55. , 58.4, 61.8, 65.2, 68.6, 72. , 75.4],\n",
       "       [ 4. ,  7.5, 11. , 14.5, 18. , 21.5, 25. , 28.5, 32. , 35.5, 39. ,\n",
       "        42.5, 46. , 49.5, 53. , 56.5, 60. , 63.5, 67. , 70.5, 74. , 77.5]])"
      ]
     },
     "execution_count": 105,
     "metadata": {},
     "output_type": "execute_result"
    }
   ],
   "source": [
    "x = np.array([np.arange(4, 78, 3.5), np.arange(4, 78, 3.4), np.arange(4, 78, 3.5)])\n",
    "x"
   ]
  },
  {
   "cell_type": "code",
   "execution_count": 106,
   "id": "e9c0fff3-0ba2-4db0-9b98-dadd2c1a369a",
   "metadata": {},
   "outputs": [
    {
     "data": {
      "text/plain": [
       "(3, 22)"
      ]
     },
     "execution_count": 106,
     "metadata": {},
     "output_type": "execute_result"
    }
   ],
   "source": [
    "x.shape"
   ]
  },
  {
   "cell_type": "markdown",
   "id": "c7ab9582-1554-441d-8abb-178f8fdab725",
   "metadata": {},
   "source": [
    "### Array containing element from a minimam fix digit to maximum fix digit using linspace function"
   ]
  },
  {
   "cell_type": "code",
   "execution_count": 107,
   "id": "87a5b085-a00a-4f42-80eb-6635e3610ab1",
   "metadata": {},
   "outputs": [
    {
     "data": {
      "text/plain": [
       "array([2.        , 2.19026544, 2.38053088, 2.57079633, 2.76106177,\n",
       "       2.95132721, 3.14159265])"
      ]
     },
     "execution_count": 107,
     "metadata": {},
     "output_type": "execute_result"
    }
   ],
   "source": [
    "np.linspace(2, np.pi, 7) # np.linspace(minimumm, maximum(included), number of elements)"
   ]
  },
  {
   "cell_type": "code",
   "execution_count": 108,
   "id": "fd2e6850-9fae-4960-a82e-3f76cb2d82c0",
   "metadata": {},
   "outputs": [
    {
     "data": {
      "text/plain": [
       "array([2.        , 2.16666667, 2.33333333, 2.5       , 2.66666667,\n",
       "       2.83333333, 3.        ])"
      ]
     },
     "execution_count": 108,
     "metadata": {},
     "output_type": "execute_result"
    }
   ],
   "source": [
    "np.linspace(2, 3, 7) # np.linspace(minimumm, maximum(included), number of elements)"
   ]
  },
  {
   "cell_type": "markdown",
   "id": "92f98488-846f-4f7b-ae04-fe6e3125fbf5",
   "metadata": {},
   "source": [
    "### Initialize a ndarray with random uniform distributed digit between 0 and 1"
   ]
  },
  {
   "cell_type": "code",
   "execution_count": 109,
   "id": "c5a0e628-c84a-4ca3-8d13-c05081c3680d",
   "metadata": {},
   "outputs": [
    {
     "data": {
      "text/plain": [
       "array([[0.52475361, 0.68220834, 0.69304354, 0.27385028],\n",
       "       [0.25204409, 0.01093085, 0.25722611, 0.33622351],\n",
       "       [0.87033963, 0.18179464, 0.00688788, 0.26571009]])"
      ]
     },
     "execution_count": 109,
     "metadata": {},
     "output_type": "execute_result"
    }
   ],
   "source": [
    "np.random.rand(3,4) # np.random.rand(row size, column size)"
   ]
  },
  {
   "cell_type": "markdown",
   "id": "4da4d2ed-6da3-4eb6-9e9b-c033f2591e44",
   "metadata": {},
   "source": [
    "### Initialize a ndarray with random normally distributed digit, with mean = 0 and variance = 1"
   ]
  },
  {
   "cell_type": "code",
   "execution_count": 110,
   "id": "c6a5854b-6902-408c-afe3-7d72eb3c8be7",
   "metadata": {},
   "outputs": [
    {
     "data": {
      "text/plain": [
       "array([[-0.28731605,  0.24607935,  0.18219916, -0.68681639],\n",
       "       [-0.21083199, -0.11497146,  0.0667297 , -0.0201916 ],\n",
       "       [-1.66930136, -0.13903041, -0.45058812,  0.52260198],\n",
       "       [ 0.86159597, -0.14985516, -0.62792131, -0.32538058]])"
      ]
     },
     "execution_count": 110,
     "metadata": {},
     "output_type": "execute_result"
    }
   ],
   "source": [
    "np.random.randn(4,4) # np.random.randn(row size, column size)"
   ]
  },
  {
   "cell_type": "code",
   "execution_count": 111,
   "id": "a15bce38-f794-44d9-8f84-bf9f953f14c7",
   "metadata": {},
   "outputs": [
    {
     "data": {
      "image/png": "[encoded data removed]",
      "text/plain": [
       "<Figure size 640x480 with 1 Axes>"
      ]
     },
     "metadata": {},
     "output_type": "display_data"
    }
   ],
   "source": [
    "import matplotlib.pyplot as plt\n",
    "\n",
    "u = np.random.rand(100000)\n",
    "n = np.random.randn(100000)\n",
    "\n",
    "plt.title(\"Random Distributions\")\n",
    "plt.hist(u, density=True, bins=100, histtype = \"step\", color = \"red\", label= \"np.random.rand\")\n",
    "plt.hist(n, density=True, bins=100, histtype=\"step\", color = \"green\", label = \"np.random.randn\")\n",
    "plt.axis([-3, 3, 0, 1.1])\n",
    "plt.legend(loc = \"upper left\")\n",
    "plt.show()"
   ]
  },
  {
   "cell_type": "markdown",
   "id": "9b5ba983-33fa-4d74-a89f-c15a3ceb93d4",
   "metadata": {},
   "source": [
    "### Initializing a ndarray from function"
   ]
  },
  {
   "cell_type": "code",
   "execution_count": 112,
   "id": "dde1b021-12f1-4456-84d5-abafb39cadda",
   "metadata": {},
   "outputs": [
    {
     "data": {
      "text/plain": [
       "array([[[5., 5., 5., 5.],\n",
       "        [5., 5., 5., 5.],\n",
       "        [5., 5., 5., 5.],\n",
       "        [5., 5., 5., 5.]],\n",
       "\n",
       "       [[6., 6., 6., 6.],\n",
       "        [6., 6., 6., 6.],\n",
       "        [6., 6., 6., 6.],\n",
       "        [6., 6., 6., 6.]],\n",
       "\n",
       "       [[7., 7., 7., 7.],\n",
       "        [7., 7., 7., 7.],\n",
       "        [7., 7., 7., 7.],\n",
       "        [7., 7., 7., 7.]]])"
      ]
     },
     "execution_count": 112,
     "metadata": {},
     "output_type": "execute_result"
    }
   ],
   "source": [
    "def myF(x, y, z):\n",
    "    return x + 5\n",
    "\n",
    "np.fromfunction(myF, (3,4,4)) # np.fromfunction(function_call, shape)"
   ]
  },
  {
   "cell_type": "code",
   "execution_count": 113,
   "id": "c3818422-6bfc-4eec-8224-4f8ad56cabe3",
   "metadata": {},
   "outputs": [
    {
     "data": {
      "text/plain": [
       "array([[[5., 5., 5., 5.],\n",
       "        [6., 6., 6., 6.],\n",
       "        [7., 7., 7., 7.],\n",
       "        [8., 8., 8., 8.]],\n",
       "\n",
       "       [[5., 5., 5., 5.],\n",
       "        [6., 6., 6., 6.],\n",
       "        [7., 7., 7., 7.],\n",
       "        [8., 8., 8., 8.]],\n",
       "\n",
       "       [[5., 5., 5., 5.],\n",
       "        [6., 6., 6., 6.],\n",
       "        [7., 7., 7., 7.],\n",
       "        [8., 8., 8., 8.]]])"
      ]
     },
     "execution_count": 113,
     "metadata": {},
     "output_type": "execute_result"
    }
   ],
   "source": [
    "def myF(x, y, z):\n",
    "    return y + 5\n",
    "\n",
    "np.fromfunction(myF, (3,4,4)) # np.fromfunction(function_call, shape)"
   ]
  },
  {
   "cell_type": "code",
   "execution_count": 114,
   "id": "b4272f50-a728-400b-9f85-d2d2878a142c",
   "metadata": {},
   "outputs": [
    {
     "data": {
      "text/plain": [
       "array([[[5., 6., 7., 8.],\n",
       "        [5., 6., 7., 8.],\n",
       "        [5., 6., 7., 8.],\n",
       "        [5., 6., 7., 8.]],\n",
       "\n",
       "       [[5., 6., 7., 8.],\n",
       "        [5., 6., 7., 8.],\n",
       "        [5., 6., 7., 8.],\n",
       "        [5., 6., 7., 8.]],\n",
       "\n",
       "       [[5., 6., 7., 8.],\n",
       "        [5., 6., 7., 8.],\n",
       "        [5., 6., 7., 8.],\n",
       "        [5., 6., 7., 8.]]])"
      ]
     },
     "execution_count": 114,
     "metadata": {},
     "output_type": "execute_result"
    }
   ],
   "source": [
    "def myF(x, y, z):\n",
    "    return z + 5\n",
    "\n",
    "np.fromfunction(myF, (3,4,4)) # np.fromfunction(function_call, shape)"
   ]
  }
 ],
 "metadata": {
  "kernelspec": {
   "display_name": "Python [conda env:base] *",
   "language": "python",
   "name": "conda-base-py"
  },
  "language_info": {
   "codemirror_mode": {
    "name": "ipython",
    "version": 3
   },
   "file_extension": ".py",
   "mimetype": "text/x-python",
   "name": "python",
   "nbconvert_exporter": "python",
   "pygments_lexer": "ipython3",
   "version": "3.13.5"
  }
 },
 "nbformat": 4,
 "nbformat_minor": 5
}
