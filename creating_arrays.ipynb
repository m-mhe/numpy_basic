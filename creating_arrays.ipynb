{
 "cells": [
  {
   "cell_type": "markdown",
   "id": "1cefcdfe-9a8a-4509-99b7-5ee5a8cb4252",
   "metadata": {},
   "source": [
    "# Introduction:\n",
    "NumPy (Numerical Python) is a powerful open-source Python library used for numerical computing, providing support for large, multi-dimensional arrays and matrices along with a wide range of high-performance mathematical functions to operate on them. It is the foundation of many scientific and data analysis libraries in Python, enabling fast operations such as linear algebra, Fourier transforms, and statistical calculations. Unlike regular Python lists, NumPy arrays are more memory-efficient and allow vectorized operations, meaning calculations can be applied to entire arrays without explicit loops, making programs faster and cleaner."
   ]
  },
  {
   "cell_type": "markdown",
   "id": "9e6e96cb-690f-4640-935a-c9e1894bc4f3",
   "metadata": {},
   "source": [
    "### Creating N-dimensional array using zeros() function"
   ]
  },
  {
   "cell_type": "code",
   "execution_count": 1,
   "id": "4ef0494e-1aa1-4685-b2b3-fc8f74d3d9f4",
   "metadata": {},
   "outputs": [],
   "source": [
    "import numpy as np\n",
    "\n",
    "m = 4\n",
    "n = 6\n",
    "o = 7"
   ]
  },
  {
   "cell_type": "code",
   "execution_count": 2,
   "id": "34c7c47e-5bf8-4e13-b2c5-c1ce213fbc27",
   "metadata": {},
   "outputs": [
    {
     "data": {
      "text/plain": [
       "array([0., 0., 0., 0.])"
      ]
     },
     "execution_count": 2,
     "metadata": {},
     "output_type": "execute_result"
    }
   ],
   "source": [
    "a=np.zeros(m) # 1 dimensional array (1D)\n",
    "a"
   ]
  },
  {
   "cell_type": "code",
   "execution_count": 8,
   "id": "59b7cdb8-293e-43eb-84ca-0acc9948ce27",
   "metadata": {},
   "outputs": [
    {
     "name": "stdout",
     "output_type": "stream",
     "text": [
      "2D array:\n",
      "[[0. 0. 0. 0. 0. 0.]\n",
      " [0. 0. 0. 0. 0. 0.]\n",
      " [0. 0. 0. 0. 0. 0.]\n",
      " [0. 0. 0. 0. 0. 0.]]\n",
      "\n",
      "3D array:\n",
      "[[[0. 0. 0. 0. 0. 0. 0.]\n",
      "  [0. 0. 0. 0. 0. 0. 0.]\n",
      "  [0. 0. 0. 0. 0. 0. 0.]\n",
      "  [0. 0. 0. 0. 0. 0. 0.]\n",
      "  [0. 0. 0. 0. 0. 0. 0.]\n",
      "  [0. 0. 0. 0. 0. 0. 0.]]\n",
      "\n",
      " [[0. 0. 0. 0. 0. 0. 0.]\n",
      "  [0. 0. 0. 0. 0. 0. 0.]\n",
      "  [0. 0. 0. 0. 0. 0. 0.]\n",
      "  [0. 0. 0. 0. 0. 0. 0.]\n",
      "  [0. 0. 0. 0. 0. 0. 0.]\n",
      "  [0. 0. 0. 0. 0. 0. 0.]]\n",
      "\n",
      " [[0. 0. 0. 0. 0. 0. 0.]\n",
      "  [0. 0. 0. 0. 0. 0. 0.]\n",
      "  [0. 0. 0. 0. 0. 0. 0.]\n",
      "  [0. 0. 0. 0. 0. 0. 0.]\n",
      "  [0. 0. 0. 0. 0. 0. 0.]\n",
      "  [0. 0. 0. 0. 0. 0. 0.]]\n",
      "\n",
      " [[0. 0. 0. 0. 0. 0. 0.]\n",
      "  [0. 0. 0. 0. 0. 0. 0.]\n",
      "  [0. 0. 0. 0. 0. 0. 0.]\n",
      "  [0. 0. 0. 0. 0. 0. 0.]\n",
      "  [0. 0. 0. 0. 0. 0. 0.]\n",
      "  [0. 0. 0. 0. 0. 0. 0.]]]\n"
     ]
    }
   ],
   "source": [
    "b = np.zeros((m, n)) # 2 dimensional array (2D)\n",
    "# So, we can create N-dimensional array of arbitrary rank\n",
    "c = np.zeros((m, n, o)) # 3 dimensional array (3D)\n",
    "print(f\"2D array:\\n{b}\\n\\n3D array:\\n{c}\")"
   ]
  },
  {
   "cell_type": "markdown",
   "id": "326e6bed-bfdd-449c-9b83-0f26cbcf64a3",
   "metadata": {},
   "source": [
    "### Array info."
   ]
  },
  {
   "cell_type": "code",
   "execution_count": 12,
   "id": "7cd0362d-7beb-4ac2-8a0c-d27212686d02",
   "metadata": {},
   "outputs": [
    {
     "name": "stdout",
     "output_type": "stream",
     "text": [
      "Row X Column of a: (4,)\n",
      "Rank of a: 1\n",
      "Size of a: 4\n",
      "\n",
      "Row X Column of b: (4, 6)\n",
      "Rank of b: 2\n",
      "Size of b: 24\n",
      "\n",
      "Matrix X Row X Column of c: (4, 6, 7)\n",
      "Rank of c: 3\n",
      "Size of c: 168\n",
      "\n"
     ]
    }
   ],
   "source": [
    "print(f\"Row X Column of a: {a.shape}\")\n",
    "print(f\"Rank of a: {a.ndim}\")\n",
    "print(f\"Size of a: {a.size}\\n\")\n",
    "\n",
    "print(f\"Row X Column of b: {b.shape}\")\n",
    "print(f\"Rank of b: {b.ndim}\")\n",
    "print(f\"Size of b: {b.size}\\n\")\n",
    "\n",
    "print(f\"Matrix X Row X Column of c: {c.shape}\")\n",
    "print(f\"Rank of c: {c.ndim}\")\n",
    "print(f\"Size of c: {c.size}\\n\")"
   ]
  }
 ],
 "metadata": {
  "kernelspec": {
   "display_name": "Python [conda env:base] *",
   "language": "python",
   "name": "conda-base-py"
  },
  "language_info": {
   "codemirror_mode": {
    "name": "ipython",
    "version": 3
   },
   "file_extension": ".py",
   "mimetype": "text/x-python",
   "name": "python",
   "nbconvert_exporter": "python",
   "pygments_lexer": "ipython3",
   "version": "3.13.5"
  }
 },
 "nbformat": 4,
 "nbformat_minor": 5
}
