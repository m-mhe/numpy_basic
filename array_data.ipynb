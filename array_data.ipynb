{
 "cells": [
  {
   "cell_type": "markdown",
   "id": "286803a4-8c62-4842-adff-3ceba9a99b93",
   "metadata": {},
   "source": [
    "# Array Data"
   ]
  },
  {
   "cell_type": "markdown",
   "id": "bf460475-2253-4a65-aa43-2ade10450349",
   "metadata": {},
   "source": [
    "### Using dtype atrribute we can see what is the data-type of elements of an array\n",
    "All elements of an array must have the same data-type."
   ]
  },
  {
   "cell_type": "code",
   "execution_count": 1,
   "id": "5cd33669-1f2f-4d08-9ec3-78909bbe5b65",
   "metadata": {},
   "outputs": [],
   "source": [
    "import numpy as np"
   ]
  },
  {
   "cell_type": "code",
   "execution_count": 10,
   "id": "846b343e-af9b-4598-84b0-a8c95cabd565",
   "metadata": {},
   "outputs": [
    {
     "name": "stdout",
     "output_type": "stream",
     "text": [
      "float64: [2.  3.2 4.4 5.6 6.8 8. ]\n",
      "int64: [2 3 4 5 6 7]\n"
     ]
    }
   ],
   "source": [
    "x = np.linspace(2, 8, 6)\n",
    "y = np.arange(2,8)\n",
    "print(f\"{x.dtype}: {x}\")\n",
    "print(f\"{y.dtype}: {y}\")"
   ]
  },
  {
   "cell_type": "markdown",
   "id": "1d636ade-946c-498f-a1af-2e11d69ec68e",
   "metadata": {},
   "source": [
    "### We can explicitly set datatype at the time of array creation using dtype named parameter"
   ]
  },
  {
   "cell_type": "code",
   "execution_count": 14,
   "id": "54739320-ff6d-41f3-b4ed-49e5a302880d",
   "metadata": {},
   "outputs": [
    {
     "name": "stdout",
     "output_type": "stream",
     "text": [
      "float32: [ 3.  4.  8. 10. 67.  1.]\n",
      "complex128: [0.+0.j 1.+0.j 2.+0.j 3.+0.j 4.+0.j 5.+0.j]\n"
     ]
    }
   ],
   "source": [
    "a = np.array([3,4,8,10,67,1], dtype= np.float32)\n",
    "b = np.arange(6, dtype = np.complex128)\n",
    "\n",
    "print(f\"{a.dtype}: {a}\")\n",
    "print(f\"{b.dtype}: {b}\")"
   ]
  }
 ],
 "metadata": {
  "kernelspec": {
   "display_name": "Python [conda env:base] *",
   "language": "python",
   "name": "conda-base-py"
  },
  "language_info": {
   "codemirror_mode": {
    "name": "ipython",
    "version": 3
   },
   "file_extension": ".py",
   "mimetype": "text/x-python",
   "name": "python",
   "nbconvert_exporter": "python",
   "pygments_lexer": "ipython3",
   "version": "3.13.5"
  }
 },
 "nbformat": 4,
 "nbformat_minor": 5
}
