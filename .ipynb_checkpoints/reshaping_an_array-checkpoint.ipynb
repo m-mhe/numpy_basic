{
 "cells": [
  {
   "cell_type": "markdown",
   "id": "3154504c-5003-4c52-b9b9-c69edbabcc9d",
   "metadata": {},
   "source": [
    "# Reshping an array"
   ]
  },
  {
   "cell_type": "markdown",
   "id": "b195c970-4a22-4155-a0f1-25f2a36afa0e",
   "metadata": {},
   "source": [
    "### We can change shape of an array by setting it's shape attribute. However array size remains same."
   ]
  },
  {
   "cell_type": "code",
   "execution_count": 2,
   "id": "6b5b2e48-c99f-4284-b8fe-bf8f75af96ae",
   "metadata": {},
   "outputs": [],
   "source": [
    "import numpy as np"
   ]
  },
  {
   "cell_type": "code",
   "execution_count": 26,
   "id": "32aa0f78-bee7-4105-9907-7fcb3dba3543",
   "metadata": {},
   "outputs": [
    {
     "name": "stdout",
     "output_type": "stream",
     "text": [
      "(12,)\n",
      " [ 0  1  2  3  4  5  6  7  8  9 10 11]\n",
      "12\n",
      "(3, 4)\n",
      " [[ 0  1  2  3]\n",
      " [ 4  5  6  7]\n",
      " [ 8  9 10 11]]\n",
      "12\n"
     ]
    }
   ],
   "source": [
    "x = np.arange(12)\n",
    "print(f\"{x.shape}\\n {x}\")\n",
    "print(x.size)\n",
    "x.shape = (3,4)\n",
    "print(f\"{x.shape}\\n {x}\")\n",
    "print(x.size)"
   ]
  },
  {
   "cell_type": "markdown",
   "id": "79b7cace-3492-4a38-acd3-e5b89bb7e297",
   "metadata": {},
   "source": [
    "### The reshape functuion returns a new array pointing at the same data. This means modifying one array will also modify the other."
   ]
  },
  {
   "cell_type": "code",
   "execution_count": 27,
   "id": "5a8663aa-3f4a-4858-9177-b4288fa73dd2",
   "metadata": {},
   "outputs": [
    {
     "name": "stdout",
     "output_type": "stream",
     "text": [
      "[[ 0  1  2  3]\n",
      " [ 4  5  6  7]\n",
      " [ 8  9 10 11]]\n",
      "[[ 0  1]\n",
      " [ 2  3]\n",
      " [ 4  5]\n",
      " [ 6  7]\n",
      " [ 8  9]\n",
      " [10 11]]\n",
      "\n",
      "\n",
      "[[ 0  1  2  3]\n",
      " [ 4  5  6  7]\n",
      " [ 8  9 10 12]]\n",
      "[[ 0  1]\n",
      " [ 2  3]\n",
      " [ 4  5]\n",
      " [ 6  7]\n",
      " [ 8  9]\n",
      " [10 12]]\n",
      "\n",
      "\n",
      "[[ 0  1  2  3]\n",
      " [ 4  5 67  7]\n",
      " [ 8  9 10 12]]\n",
      "[[ 0  1]\n",
      " [ 2  3]\n",
      " [ 4  5]\n",
      " [67  7]\n",
      " [ 8  9]\n",
      " [10 12]]\n"
     ]
    }
   ],
   "source": [
    "y = x.reshape(6,2)\n",
    "print(x)\n",
    "print(y)\n",
    "print(\"\\n\")\n",
    "x[2,3] = 12\n",
    "\n",
    "print(x)\n",
    "print(y)\n",
    "print(\"\\n\")\n",
    "y[3,0] = 67\n",
    "\n",
    "print(x)\n",
    "print(y)"
   ]
  },
  {
   "cell_type": "markdown",
   "id": "fa808aa9-3749-4174-892f-50765fb32755",
   "metadata": {},
   "source": [
    "### We can make new 1D array using ravel() function, that also points to the same data ."
   ]
  },
  {
   "cell_type": "code",
   "execution_count": 29,
   "id": "41c17c08-2e8c-4ea6-9615-141b6bccaa10",
   "metadata": {},
   "outputs": [
    {
     "data": {
      "text/plain": [
       "array([ 0,  1,  2,  3,  4,  5, 67,  7,  8,  9, 10, 12])"
      ]
     },
     "execution_count": 29,
     "metadata": {},
     "output_type": "execute_result"
    }
   ],
   "source": [
    "z = y.ravel() # Returns a new 1D array, also pointing to the same array\n",
    "z"
   ]
  }
 ],
 "metadata": {
  "kernelspec": {
   "display_name": "Python [conda env:base] *",
   "language": "python",
   "name": "conda-base-py"
  },
  "language_info": {
   "codemirror_mode": {
    "name": "ipython",
    "version": 3
   },
   "file_extension": ".py",
   "mimetype": "text/x-python",
   "name": "python",
   "nbconvert_exporter": "python",
   "pygments_lexer": "ipython3",
   "version": "3.13.5"
  }
 },
 "nbformat": 4,
 "nbformat_minor": 5
}
