{
 "cells": [
  {
   "cell_type": "markdown",
   "id": "895d5433-dae3-439a-92df-e6e889481f75",
   "metadata": {},
   "source": [
    "# Mathematical & statistical functions"
   ]
  },
  {
   "cell_type": "code",
   "execution_count": 1,
   "id": "896d4511-9e80-43b7-992f-503f15a4ec7c",
   "metadata": {},
   "outputs": [],
   "source": [
    "import numpy as np"
   ]
  },
  {
   "cell_type": "code",
   "execution_count": 17,
   "id": "95c68b23-9ff2-4856-9690-d919778d1b43",
   "metadata": {},
   "outputs": [
    {
     "data": {
      "text/plain": [
       "np.float64(23.454545454545453)"
      ]
     },
     "execution_count": 17,
     "metadata": {},
     "output_type": "execute_result"
    }
   ],
   "source": [
    "m = np.array([4, 8, 4, 5, 6, 35, 48, 100, 4, 89, -45])\n",
    "m.mean()"
   ]
  },
  {
   "cell_type": "markdown",
   "id": "2a2955f3-b508-467a-96e2-e9badab62efe",
   "metadata": {},
   "source": [
    "### Some other functions"
   ]
  },
  {
   "cell_type": "code",
   "execution_count": 18,
   "id": "66d58db0-0974-492e-9491-b9b8ae511a3f",
   "metadata": {},
   "outputs": [
    {
     "name": "stdout",
     "output_type": "stream",
     "text": [
      "min :  -45\n",
      "max :  100\n",
      "prod :  -10334822400000\n",
      "std :  39.99628081883168\n",
      "var :  1599.702479338843\n"
     ]
    }
   ],
   "source": [
    "for func in (m.min, m.max, m.prod, m.std, m.var):\n",
    "   print(func.__name__, \": \", func())"
   ]
  }
 ],
 "metadata": {
  "kernelspec": {
   "display_name": "Python [conda env:base] *",
   "language": "python",
   "name": "conda-base-py"
  },
  "language_info": {
   "codemirror_mode": {
    "name": "ipython",
    "version": 3
   },
   "file_extension": ".py",
   "mimetype": "text/x-python",
   "name": "python",
   "nbconvert_exporter": "python",
   "pygments_lexer": "ipython3",
   "version": "3.13.5"
  }
 },
 "nbformat": 4,
 "nbformat_minor": 5
}
