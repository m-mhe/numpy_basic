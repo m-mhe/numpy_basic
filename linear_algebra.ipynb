{
 "cells": [
  {
   "cell_type": "markdown",
   "id": "e82d6f47-420c-430a-b44e-394d8fef3e72",
   "metadata": {},
   "source": [
    "# Linear Algebra"
   ]
  },
  {
   "cell_type": "code",
   "execution_count": 1,
   "id": "7859caca-7f2f-43e4-80a6-6b6fa2cebc3c",
   "metadata": {},
   "outputs": [],
   "source": [
    "import numpy as np\n",
    "import numpy.linalg as linalg"
   ]
  },
  {
   "cell_type": "markdown",
   "id": "c4fd4c41-70b2-41f2-b29c-4357ff94152a",
   "metadata": {},
   "source": [
    "### Matrix Transpose"
   ]
  },
  {
   "cell_type": "code",
   "execution_count": 2,
   "id": "421a8308-499b-4361-9079-fc32a5068f79",
   "metadata": {},
   "outputs": [
    {
     "name": "stdout",
     "output_type": "stream",
     "text": [
      "[[ 0  1]\n",
      " [ 2  3]\n",
      " [ 4  5]\n",
      " [ 6  7]\n",
      " [ 8  9]\n",
      " [10 11]\n",
      " [12 13]\n",
      " [14 15]\n",
      " [16 17]\n",
      " [18 19]\n",
      " [20 21]\n",
      " [22 23]\n",
      " [24 25]\n",
      " [26 27]\n",
      " [28 29]\n",
      " [30 31]\n",
      " [32 33]\n",
      " [34 35]\n",
      " [36 37]\n",
      " [38 39]]\n"
     ]
    },
    {
     "data": {
      "text/plain": [
       "(20, 2)"
      ]
     },
     "execution_count": 2,
     "metadata": {},
     "output_type": "execute_result"
    }
   ],
   "source": [
    "x = np.arange(40).reshape(20,2)\n",
    "print(x)\n",
    "x.shape"
   ]
  },
  {
   "cell_type": "code",
   "execution_count": 7,
   "id": "d2fbf9b4-4a2f-4418-b17d-11e497dfc891",
   "metadata": {},
   "outputs": [
    {
     "name": "stdout",
     "output_type": "stream",
     "text": [
      "[[ 0  2  4  6  8 10 12 14 16 18 20 22 24 26 28 30 32 34 36 38]\n",
      " [ 1  3  5  7  9 11 13 15 17 19 21 23 25 27 29 31 33 35 37 39]]\n"
     ]
    },
    {
     "data": {
      "text/plain": [
       "(2, 20)"
      ]
     },
     "execution_count": 7,
     "metadata": {},
     "output_type": "execute_result"
    }
   ],
   "source": [
    "x = x.T # Matrix transpose (row becomes column and column becomes row)\n",
    "print(x)\n",
    "x.shape"
   ]
  },
  {
   "cell_type": "markdown",
   "id": "dbc34d82-0922-4b87-b927-7e889fa8ef74",
   "metadata": {},
   "source": [
    "### Dot product"
   ]
  },
  {
   "cell_type": "code",
   "execution_count": 15,
   "id": "11d2345e-633b-47f2-ba1b-2bf3ba06819a",
   "metadata": {},
   "outputs": [
    {
     "name": "stdout",
     "output_type": "stream",
     "text": [
      "(4, 2)\n"
     ]
    },
    {
     "data": {
      "text/plain": [
       "(2, 4)"
      ]
     },
     "execution_count": 15,
     "metadata": {},
     "output_type": "execute_result"
    }
   ],
   "source": [
    "a = np.array([[4,7,8,9],[78,-48,4,1]])\n",
    "b = np.array([[1, 7], [7, 4], [3, 6], [2, -7],])\n",
    "print(b.shape)\n",
    "a.shape"
   ]
  },
  {
   "cell_type": "code",
   "execution_count": 16,
   "id": "b22c430c-506b-4ba8-b492-455b3705bf85",
   "metadata": {},
   "outputs": [
    {
     "data": {
      "text/plain": [
       "array([[  95,   41],\n",
       "       [-244,  371]])"
      ]
     },
     "execution_count": 16,
     "metadata": {},
     "output_type": "execute_result"
    }
   ],
   "source": [
    "dotProduct = a.dot(b)\n",
    "dotProduct"
   ]
  },
  {
   "cell_type": "markdown",
   "id": "d98e4654-795d-46d4-85ac-0d61651484a5",
   "metadata": {},
   "source": [
    "### Determination of a matrix using numpy.linalg module"
   ]
  },
  {
   "cell_type": "code",
   "execution_count": 17,
   "id": "683604da-bedc-4e40-811c-25c481fb4aa8",
   "metadata": {},
   "outputs": [
    {
     "data": {
      "text/plain": [
       "np.float64(45249.00000000003)"
      ]
     },
     "execution_count": 17,
     "metadata": {},
     "output_type": "execute_result"
    }
   ],
   "source": [
    "linalg.det(dotProduct)"
   ]
  },
  {
   "cell_type": "markdown",
   "id": "dffe3f3d-0883-4426-86b1-825921b8e87e",
   "metadata": {},
   "source": [
    "### Diagonal and trace"
   ]
  },
  {
   "cell_type": "code",
   "execution_count": 18,
   "id": "20184f4b-2c33-44ca-b35b-e48847e41fa0",
   "metadata": {},
   "outputs": [
    {
     "data": {
      "text/plain": [
       "array([ 95, 371])"
      ]
     },
     "execution_count": 18,
     "metadata": {},
     "output_type": "execute_result"
    }
   ],
   "source": [
    "np.diag(dotProduct)"
   ]
  },
  {
   "cell_type": "code",
   "execution_count": 21,
   "id": "5adec996-4665-4088-9670-263cc6f583fb",
   "metadata": {},
   "outputs": [
    {
     "name": "stdout",
     "output_type": "stream",
     "text": [
      "466\n"
     ]
    },
    {
     "data": {
      "text/plain": [
       "np.int64(466)"
      ]
     },
     "execution_count": 21,
     "metadata": {},
     "output_type": "execute_result"
    }
   ],
   "source": [
    "print(np.diag(dotProduct).sum())\n",
    "np.trace(dotProduct)"
   ]
  },
  {
   "cell_type": "markdown",
   "id": "c5f0866f-bfca-474b-b0b0-de0df91dbe36",
   "metadata": {},
   "source": [
    "# Solving system of linear scalar equations"
   ]
  },
  {
   "cell_type": "code",
   "execution_count": 30,
   "id": "e4c42b76-b0dc-47a3-bbd6-5a3c25ed7220",
   "metadata": {},
   "outputs": [
    {
     "name": "stdout",
     "output_type": "stream",
     "text": [
      "x =  -3.0\n",
      "y =  2.0\n"
     ]
    }
   ],
   "source": [
    "m1 = np.array([[2, 6], [5, 3]])\n",
    "m2 = np.array([6, -9])\n",
    "\n",
    "result = linalg.solve(m1, m2)\n",
    "\n",
    "print(\"x = \", result[0])\n",
    "print(\"y = \", result[1])"
   ]
  },
  {
   "cell_type": "code",
   "execution_count": 31,
   "id": "527b7506-7770-487b-a225-f1ef96a5f022",
   "metadata": {},
   "outputs": [
    {
     "name": "stdout",
     "output_type": "stream",
     "text": [
      "[ 6. -9.] [ 6 -9]\n"
     ]
    },
    {
     "data": {
      "text/plain": [
       "True"
      ]
     },
     "execution_count": 31,
     "metadata": {},
     "output_type": "execute_result"
    }
   ],
   "source": [
    "print(m1.dot(result), m2) # Result will be correct if these two are same.\n",
    "np.allclose(m1.dot(result), m2) # True means result is correct."
   ]
  },
  {
   "cell_type": "markdown",
   "id": "724fbc82-07b8-4ccf-beab-d84401dee778",
   "metadata": {},
   "source": [
    "### Vactorization"
   ]
  },
  {
   "cell_type": "code",
   "execution_count": 32,
   "id": "db2f2572-bb8b-484f-879e-048d910777ed",
   "metadata": {},
   "outputs": [
    {
     "data": {
      "text/plain": [
       "(array([[   0,    1,    2, ..., 1021, 1022, 1023],\n",
       "        [   0,    1,    2, ..., 1021, 1022, 1023],\n",
       "        [   0,    1,    2, ..., 1021, 1022, 1023],\n",
       "        ...,\n",
       "        [   0,    1,    2, ..., 1021, 1022, 1023],\n",
       "        [   0,    1,    2, ..., 1021, 1022, 1023],\n",
       "        [   0,    1,    2, ..., 1021, 1022, 1023]]),\n",
       " array([[  0,   0,   0, ...,   0,   0,   0],\n",
       "        [  1,   1,   1, ...,   1,   1,   1],\n",
       "        [  2,   2,   2, ...,   2,   2,   2],\n",
       "        ...,\n",
       "        [765, 765, 765, ..., 765, 765, 765],\n",
       "        [766, 766, 766, ..., 766, 766, 766],\n",
       "        [767, 767, 767, ..., 767, 767, 767]]))"
      ]
     },
     "execution_count": 32,
     "metadata": {},
     "output_type": "execute_result"
    }
   ],
   "source": [
    "xAxis = np.arange(1024)\n",
    "yAxis = np.arange(768)\n",
    "\n",
    "x, y = np.meshgrid(xAxis, yAxis) # Generates two matrices from coordinate vectors\n",
    "x, y"
   ]
  },
  {
   "cell_type": "code",
   "execution_count": 36,
   "id": "0a78401e-b571-4d88-908b-9c47a2e1aa92",
   "metadata": {},
   "outputs": [
    {
     "data": {
      "text/plain": [
       "array([[0.        , 0.        , 0.        , ..., 0.        , 0.        ,\n",
       "        0.        ],\n",
       "       [0.        , 0.02468885, 0.04936265, ..., 0.07705885, 0.1016508 ,\n",
       "        0.12618078],\n",
       "       [0.        , 0.04936265, 0.09860494, ..., 0.15365943, 0.20224852,\n",
       "        0.25034449],\n",
       "       ...,\n",
       "       [0.        , 0.03932283, 0.07858482, ..., 0.6301488 , 0.59912825,\n",
       "        0.56718092],\n",
       "       [0.        , 0.06398059, 0.12769901, ..., 0.56844086, 0.51463783,\n",
       "        0.45872596],\n",
       "       [0.        , 0.08859936, 0.17650185, ..., 0.50335246, 0.42481591,\n",
       "        0.34293805]])"
      ]
     },
     "execution_count": 36,
     "metadata": {},
     "output_type": "execute_result"
    }
   ],
   "source": [
    "s = np.sin(x*y / 40.5) # The efficient way to do calculation on a matrix.\n",
    "s"
   ]
  },
  {
   "cell_type": "markdown",
   "id": "e937da88-a376-46e9-a5f4-3732c55bc739",
   "metadata": {},
   "source": [
    "# Saving and loading"
   ]
  },
  {
   "cell_type": "code",
   "execution_count": 39,
   "id": "d51540aa-c0c1-48e6-91d7-96eee6c1ae65",
   "metadata": {},
   "outputs": [
    {
     "data": {
      "text/plain": [
       "array([[0.        , 0.        , 0.        , ..., 0.        , 0.        ,\n",
       "        0.        ],\n",
       "       [0.        , 0.02468885, 0.04936265, ..., 0.07705885, 0.1016508 ,\n",
       "        0.12618078],\n",
       "       [0.        , 0.04936265, 0.09860494, ..., 0.15365943, 0.20224852,\n",
       "        0.25034449],\n",
       "       ...,\n",
       "       [0.        , 0.03932283, 0.07858482, ..., 0.6301488 , 0.59912825,\n",
       "        0.56718092],\n",
       "       [0.        , 0.06398059, 0.12769901, ..., 0.56844086, 0.51463783,\n",
       "        0.45872596],\n",
       "       [0.        , 0.08859936, 0.17650185, ..., 0.50335246, 0.42481591,\n",
       "        0.34293805]])"
      ]
     },
     "execution_count": 39,
     "metadata": {},
     "output_type": "execute_result"
    }
   ],
   "source": [
    "np.savetxt(\"my_array.csv\", s) # saving\n",
    "k = np.loadtxt(\"my_array.csv\") # loading\n",
    "k"
   ]
  },
  {
   "cell_type": "code",
   "execution_count": 40,
   "id": "176055b3-e59a-4209-b37c-cb836b861b11",
   "metadata": {},
   "outputs": [
    {
     "data": {
      "text/plain": [
       "array([[0.        , 0.        , 0.        , ..., 0.        , 0.        ,\n",
       "        0.        ],\n",
       "       [0.        , 0.02468885, 0.04936265, ..., 0.07705885, 0.1016508 ,\n",
       "        0.12618078],\n",
       "       [0.        , 0.04936265, 0.09860494, ..., 0.15365943, 0.20224852,\n",
       "        0.25034449],\n",
       "       ...,\n",
       "       [0.        , 0.03932283, 0.07858482, ..., 0.6301488 , 0.59912825,\n",
       "        0.56718092],\n",
       "       [0.        , 0.06398059, 0.12769901, ..., 0.56844086, 0.51463783,\n",
       "        0.45872596],\n",
       "       [0.        , 0.08859936, 0.17650185, ..., 0.50335246, 0.42481591,\n",
       "        0.34293805]])"
      ]
     },
     "execution_count": 40,
     "metadata": {},
     "output_type": "execute_result"
    }
   ],
   "source": [
    "np.save(\"my_array\", s) # Default saving\n",
    "p = np.load(\"my_array.npy\") # loading\n",
    "p"
   ]
  }
 ],
 "metadata": {
  "kernelspec": {
   "display_name": "Python [conda env:base] *",
   "language": "python",
   "name": "conda-base-py"
  },
  "language_info": {
   "codemirror_mode": {
    "name": "ipython",
    "version": 3
   },
   "file_extension": ".py",
   "mimetype": "text/x-python",
   "name": "python",
   "nbconvert_exporter": "python",
   "pygments_lexer": "ipython3",
   "version": "3.13.5"
  }
 },
 "nbformat": 4,
 "nbformat_minor": 5
}
