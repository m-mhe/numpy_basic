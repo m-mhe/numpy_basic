{
 "cells": [
  {
   "cell_type": "markdown",
   "id": "b792a3be-9efb-4dc9-8586-387a96b74fee",
   "metadata": {},
   "source": [
    "# Indexing through 1D array"
   ]
  },
  {
   "cell_type": "code",
   "execution_count": 8,
   "id": "520ec7e5-6d1d-429d-86cc-c718a340e34c",
   "metadata": {},
   "outputs": [],
   "source": [
    "import numpy as np"
   ]
  },
  {
   "cell_type": "code",
   "execution_count": 9,
   "id": "6cb84c5c-e614-4ff2-b6ec-4d699ab09800",
   "metadata": {},
   "outputs": [
    {
     "data": {
      "text/plain": [
       "array([ 7, 11, 15, 19, 23, 27, 31, 35, 39, 43, 47, 51, 55, 59, 63, 67, 71,\n",
       "       75])"
      ]
     },
     "execution_count": 9,
     "metadata": {},
     "output_type": "execute_result"
    }
   ],
   "source": [
    "v = np.arange(7, 78, 4)\n",
    "v"
   ]
  },
  {
   "cell_type": "code",
   "execution_count": 10,
   "id": "f35dbc05-269e-4e73-b02d-c5fbd3310652",
   "metadata": {},
   "outputs": [
    {
     "data": {
      "text/plain": [
       "np.int64(75)"
      ]
     },
     "execution_count": 10,
     "metadata": {},
     "output_type": "execute_result"
    }
   ],
   "source": [
    "v[-1] # Last index"
   ]
  },
  {
   "cell_type": "code",
   "execution_count": 11,
   "id": "c9b3e965-ff52-4eef-b4f3-f4a6aef8a78f",
   "metadata": {},
   "outputs": [
    {
     "data": {
      "text/plain": [
       "np.int64(63)"
      ]
     },
     "execution_count": 11,
     "metadata": {},
     "output_type": "execute_result"
    }
   ],
   "source": [
    "v[14]"
   ]
  },
  {
   "cell_type": "code",
   "execution_count": 12,
   "id": "7e886ab9-2a10-4e62-b80a-e8e62f6da0ce",
   "metadata": {},
   "outputs": [
    {
     "data": {
      "text/plain": [
       "array([ 7, 11, 15, 19, 23, 27, 31, 35, 39, 43, 47, 51, 55, 59, 63, 67, 71,\n",
       "       75])"
      ]
     },
     "execution_count": 12,
     "metadata": {},
     "output_type": "execute_result"
    }
   ],
   "source": [
    "v[...] # It selects all"
   ]
  },
  {
   "cell_type": "markdown",
   "id": "276553ab-7603-47c3-8082-0879e99c9d5a",
   "metadata": {},
   "source": [
    "# Indexing through multidimensional array"
   ]
  },
  {
   "cell_type": "code",
   "execution_count": 20,
   "id": "ea5b5afd-cf99-4368-bb5b-c4d034dc0c3f",
   "metadata": {},
   "outputs": [
    {
     "name": "stdout",
     "output_type": "stream",
     "text": [
      "4 D array: \n",
      " [[[[ 0  1  2  3  4]\n",
      "   [ 5  6  7  8  9]\n",
      "   [10 11 12 13 14]]\n",
      "\n",
      "  [[15 16 17 18 19]\n",
      "   [20 21 22 23 24]\n",
      "   [25 26 27 28 29]]]\n",
      "\n",
      "\n",
      " [[[30 31 32 33 34]\n",
      "   [35 36 37 38 39]\n",
      "   [40 41 42 43 44]]\n",
      "\n",
      "  [[45 46 47 48 49]\n",
      "   [50 51 52 53 54]\n",
      "   [55 56 57 58 59]]]]\n"
     ]
    }
   ],
   "source": [
    "m = np.arange(60).reshape(2,2,3,5) # 4D array\n",
    "print(m.ndim, \"D array: \\n\", m)"
   ]
  },
  {
   "cell_type": "code",
   "execution_count": 25,
   "id": "ece176ea-6ef4-437e-b199-9659d2c77d65",
   "metadata": {},
   "outputs": [
    {
     "data": {
      "text/plain": [
       "np.int64(29)"
      ]
     },
     "execution_count": 25,
     "metadata": {},
     "output_type": "execute_result"
    }
   ],
   "source": [
    "m[0, 1, 2,4] "
   ]
  },
  {
   "cell_type": "code",
   "execution_count": 26,
   "id": "131fa5da-78c0-412e-b568-1992b832cf7e",
   "metadata": {},
   "outputs": [
    {
     "data": {
      "text/plain": [
       "array([[[ 0,  1,  2,  3,  4],\n",
       "        [ 5,  6,  7,  8,  9],\n",
       "        [10, 11, 12, 13, 14]],\n",
       "\n",
       "       [[15, 16, 17, 18, 19],\n",
       "        [20, 21, 22, 23, 24],\n",
       "        [25, 26, 27, 28, 29]]])"
      ]
     },
     "execution_count": 26,
     "metadata": {},
     "output_type": "execute_result"
    }
   ],
   "source": [
    "m[0, ...]"
   ]
  },
  {
   "cell_type": "code",
   "execution_count": 29,
   "id": "9ab8f270-abb3-4a47-9297-767015c2b94f",
   "metadata": {},
   "outputs": [
    {
     "data": {
      "text/plain": [
       "array([[[30, 31, 32, 33, 34],\n",
       "        [35, 36, 37, 38, 39],\n",
       "        [40, 41, 42, 43, 44]],\n",
       "\n",
       "       [[45, 46, 47, 48, 49],\n",
       "        [50, 51, 52, 53, 54],\n",
       "        [55, 56, 57, 58, 59]]])"
      ]
     },
     "execution_count": 29,
     "metadata": {},
     "output_type": "execute_result"
    }
   ],
   "source": [
    "m[1, :, :, :] # Equivilant to m[1, ...]"
   ]
  },
  {
   "cell_type": "code",
   "execution_count": 31,
   "id": "d614ce59-a9dd-42ea-bc5e-8ef8d6ca174d",
   "metadata": {},
   "outputs": [
    {
     "data": {
      "text/plain": [
       "array([29, 59])"
      ]
     },
     "execution_count": 31,
     "metadata": {},
     "output_type": "execute_result"
    }
   ],
   "source": [
    "m[..., 1, 2, 4]"
   ]
  },
  {
   "cell_type": "code",
   "execution_count": 34,
   "id": "2259052c-1625-481a-b3e4-1ce576beaf46",
   "metadata": {},
   "outputs": [
    {
     "ename": "IndexError",
     "evalue": "an index can only have a single ellipsis ('...')",
     "output_type": "error",
     "traceback": [
      "\u001b[1;31m---------------------------------------------------------------------------\u001b[0m",
      "\u001b[1;31mIndexError\u001b[0m                                Traceback (most recent call last)",
      "Cell \u001b[1;32mIn[34], line 1\u001b[0m\n\u001b[1;32m----> 1\u001b[0m m[\u001b[38;5;241m.\u001b[39m\u001b[38;5;241m.\u001b[39m\u001b[38;5;241m.\u001b[39m, \u001b[38;5;241m1\u001b[39m, \u001b[38;5;241m.\u001b[39m\u001b[38;5;241m.\u001b[39m\u001b[38;5;241m.\u001b[39m]\n",
      "\u001b[1;31mIndexError\u001b[0m: an index can only have a single ellipsis ('...')"
     ]
    }
   ],
   "source": [
    "m[..., 1, ...] # Error an index can only have a single ellipsis ('...')"
   ]
  }
 ],
 "metadata": {
  "kernelspec": {
   "display_name": "Python [conda env:base] *",
   "language": "python",
   "name": "conda-base-py"
  },
  "language_info": {
   "codemirror_mode": {
    "name": "ipython",
    "version": 3
   },
   "file_extension": ".py",
   "mimetype": "text/x-python",
   "name": "python",
   "nbconvert_exporter": "python",
   "pygments_lexer": "ipython3",
   "version": "3.13.5"
  }
 },
 "nbformat": 4,
 "nbformat_minor": 5
}
