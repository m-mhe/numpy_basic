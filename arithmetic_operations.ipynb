{
 "cells": [
  {
   "cell_type": "markdown",
   "id": "55d2bc79-5092-454d-8f6d-1fab52bb6df9",
   "metadata": {},
   "source": [
    "# For ndarray arithmetic operations happens element wise"
   ]
  },
  {
   "cell_type": "code",
   "execution_count": 1,
   "id": "14fa6369-4d21-4134-b43f-1ab7020f5f5f",
   "metadata": {},
   "outputs": [],
   "source": [
    "import numpy as np"
   ]
  },
  {
   "cell_type": "code",
   "execution_count": 2,
   "id": "d5fb643b-be50-48a2-8de5-94b0b081ed84",
   "metadata": {},
   "outputs": [
    {
     "name": "stdout",
     "output_type": "stream",
     "text": [
      "[[11 13]\n",
      " [15 17]]\n",
      "[[1 1]\n",
      " [1 1]]\n",
      "[[30 42]\n",
      " [56 72]]\n",
      "[[1.2        1.16666667]\n",
      " [1.14285714 1.125     ]]\n",
      "[[1 1]\n",
      " [1 1]]\n",
      "[[1 1]\n",
      " [1 1]]\n",
      "[[    7776   117649]\n",
      " [ 2097152 43046721]]\n"
     ]
    }
   ],
   "source": [
    "x = np.array([[6,7],[8,9]]) # Arrays must have the same shape. If they do not, numpy will apply the broadcasting three rules.\n",
    "y = np.array([[5,6],[7,8]]) # Arrays must have the same shape. If they do not, numpy will apply the broadcasting three rules.\n",
    "\n",
    "print(x+y)\n",
    "print(x-y)\n",
    "print(x*y)\n",
    "print(x/y)\n",
    "print(x//y) # Integer division\n",
    "print(x % y) # Modulus\n",
    "print(x**y) # Power"
   ]
  }
 ],
 "metadata": {
  "kernelspec": {
   "display_name": "Python [conda env:base] *",
   "language": "python",
   "name": "conda-base-py"
  },
  "language_info": {
   "codemirror_mode": {
    "name": "ipython",
    "version": 3
   },
   "file_extension": ".py",
   "mimetype": "text/x-python",
   "name": "python",
   "nbconvert_exporter": "python",
   "pygments_lexer": "ipython3",
   "version": "3.13.5"
  }
 },
 "nbformat": 4,
 "nbformat_minor": 5
}
