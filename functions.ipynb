{
 "cells": [
  {
   "cell_type": "markdown",
   "id": "e9295d82-de9d-410e-9ab7-b990d69aec22",
   "metadata": {},
   "source": [
    "# Univarsal Functions"
   ]
  },
  {
   "cell_type": "code",
   "execution_count": 1,
   "id": "c8f03123-fdca-4c45-884f-82ba24eb92d2",
   "metadata": {},
   "outputs": [],
   "source": [
    "import numpy as np"
   ]
  },
  {
   "cell_type": "code",
   "execution_count": 7,
   "id": "504cbb1f-5e7d-4a76-bb3a-567401290832",
   "metadata": {},
   "outputs": [
    {
     "data": {
      "text/plain": [
       "array([-14, -13, -12, -11, -10,  -9,  -8,  -7,  -6,  -5,  -4,  -3,  -2,\n",
       "        -1,   0,   1,   2,   3,   4,   5,   6,   7,   8,   9,  10,  11,\n",
       "        12,  13,  14])"
      ]
     },
     "execution_count": 7,
     "metadata": {},
     "output_type": "execute_result"
    }
   ],
   "source": [
    "a = np.arange(-14, 15)\n",
    "a"
   ]
  },
  {
   "cell_type": "code",
   "execution_count": 8,
   "id": "0413d9c4-c800-4b99-9030-f4ba496262fa",
   "metadata": {},
   "outputs": [
    {
     "data": {
      "text/plain": [
       "array([14, 13, 12, 11, 10,  9,  8,  7,  6,  5,  4,  3,  2,  1,  0,  1,  2,\n",
       "        3,  4,  5,  6,  7,  8,  9, 10, 11, 12, 13, 14])"
      ]
     },
     "execution_count": 8,
     "metadata": {},
     "output_type": "execute_result"
    }
   ],
   "source": [
    "np.abs(a)"
   ]
  },
  {
   "cell_type": "markdown",
   "id": "e6a2c17d-6361-41af-82fd-4bfee26114ca",
   "metadata": {},
   "source": [
    "### some other functions"
   ]
  },
  {
   "cell_type": "code",
   "execution_count": 18,
   "id": "394bfb78-43bf-4cba-8e12-cd720946ff44",
   "metadata": {},
   "outputs": [
    {
     "name": "stdout",
     "output_type": "stream",
     "text": [
      "exp :  [3.49342711e+19 1.06864746e+13 1.22040329e+39 1.14200739e+26\n",
      " 1.48938420e+78]\n",
      "log :  [3.80666249 3.40119738 4.49980967 4.09434456 5.19295685]\n",
      "sign :  [1 1 1 1 1]\n",
      "ceil :  [ 45  30  90  60 180]\n",
      "modf :  (array([0., 0., 0., 0., 0.]), array([ 45.,  30.,  90.,  60., 180.]))\n",
      "isnan :  [False False False False False]\n",
      "cos :  [ 0.52532199  0.15425145 -0.44807362 -0.95241298 -0.59846007]\n",
      "sin :  [ 0.85090352 -0.98803162  0.89399666 -0.30481062 -0.80115264]\n",
      "tan :  [ 1.61977519 -6.4053312  -1.99520041  0.32004039  1.33869021]\n"
     ]
    }
   ],
   "source": [
    "b = np.array([45, 30, 90, 60, 180])\n",
    "for func in (np.exp, np.log, np.sign, np.ceil, np.modf, np.isnan, np.cos, np.sin, np.tan):\n",
    "    print(func.__name__, \": \", func(b))"
   ]
  },
  {
   "cell_type": "markdown",
   "id": "76d1809e-c194-4553-b429-de33c27b19cd",
   "metadata": {},
   "source": [
    "# Binary functions"
   ]
  },
  {
   "cell_type": "code",
   "execution_count": 20,
   "id": "57389cc4-8710-4ac4-9dfe-43f7238bf8ed",
   "metadata": {},
   "outputs": [
    {
     "data": {
      "text/plain": [
       "array([123, -16,  88,  85, -51])"
      ]
     },
     "execution_count": 20,
     "metadata": {},
     "output_type": "execute_result"
    }
   ],
   "source": [
    "x = np.array([45, -8, 74, 78, -70])\n",
    "y = np.array([78, -8, 14, 7, 19])\n",
    "np.add(x, y)"
   ]
  },
  {
   "cell_type": "markdown",
   "id": "6e3fa4f8-99fd-4a14-a7e3-d1bd00ba0bb7",
   "metadata": {},
   "source": [
    "### Some other functions:"
   ]
  },
  {
   "cell_type": "code",
   "execution_count": 23,
   "id": "bda499e1-8ff2-4228-b008-a5abea5a477b",
   "metadata": {},
   "outputs": [
    {
     "name": "stdout",
     "output_type": "stream",
     "text": [
      "greater :  [False False  True  True False]\n",
      "maximum :  [78 -8 74 78 19]\n",
      "minimum :  [ 45  -8  14   7 -70]\n",
      "copysign :  [45. -8. 74. 78. 70.]\n",
      "\n",
      "\n",
      "greater :  [ True False False False  True]\n",
      "maximum :  [78 -8 74 78 19]\n",
      "minimum :  [ 45  -8  14   7 -70]\n",
      "copysign :  [ 78.  -8.  14.   7. -19.]\n"
     ]
    }
   ],
   "source": [
    "for func in (np.greater, np.maximum, np.minimum, np.copysign):\n",
    "    print(func.__name__, \": \", func(x, y))\n",
    "print(\"\\n\")\n",
    "for func in (np.greater, np.maximum, np.minimum, np.copysign):\n",
    "    print(func.__name__, \": \", func(y, x))"
   ]
  }
 ],
 "metadata": {
  "kernelspec": {
   "display_name": "Python [conda env:base] *",
   "language": "python",
   "name": "conda-base-py"
  },
  "language_info": {
   "codemirror_mode": {
    "name": "ipython",
    "version": 3
   },
   "file_extension": ".py",
   "mimetype": "text/x-python",
   "name": "python",
   "nbconvert_exporter": "python",
   "pygments_lexer": "ipython3",
   "version": "3.13.5"
  }
 },
 "nbformat": 4,
 "nbformat_minor": 5
}
